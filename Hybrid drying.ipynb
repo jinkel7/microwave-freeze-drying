{
 "cells": [
  {
   "cell_type": "code",
   "execution_count": null,
   "metadata": {},
   "outputs": [],
   "source": [
    "# For the first time running, install following pakages (Remove # below)\n",
    " # Pkg.add(\"VoronoiFVM\")\n",
    " # Pkg.add(\"ExtendableGrids\")\n",
    " # Pkg.add(\"PyPlot\")\n",
    " # Pkg.add(\"Plots\")\n",
    " # Pkg.add(\"DataFrames\")\n",
    " # Pkg.add(\"CSV\")"
   ]
  },
  {
   "cell_type": "code",
   "execution_count": null,
   "metadata": {},
   "outputs": [],
   "source": [
    "# Guide (based on Julia v1.5.1 and VoronoiFVM.jl v0.10.2)\n",
    " # Input parameter/Set shelf conditions\n",
    " # Run\n",
    " # Read Bottom_T_HFD.csv => Find time where sublimation temperature reached (t1)\n",
    " # Set inival[3,i] as new shelf temperature (inival[3,i] = inival[1,i] + t1 * Tshelf_r(Kelvin/10sec) * 60 sec/min * 60 min/hr)\n",
    " # Re-run\n",
    " # Read Position_HFD.csv => Find time where length reached (t2)\n",
    " # Drying time = t1 + t2"
   ]
  },
  {
   "cell_type": "code",
   "execution_count": null,
   "metadata": {
    "scrolled": true
   },
   "outputs": [],
   "source": [
    "using VoronoiFVM\n",
    "using ExtendableGrids\n",
    "using PyPlot\n",
    "using Plots\n",
    "\n",
    "Length=0.042;\n",
    "edge_n=300; # number of edges\n",
    "X1=collect(0.0:Length/edge_n:Length)\n",
    "grid=ExtendableGrids.simplexgrid(X1)\n",
    "ExtendableGrids.plot(grid,Plotter=PyPlot)"
   ]
  },
  {
   "cell_type": "code",
   "execution_count": null,
   "metadata": {},
   "outputs": [],
   "source": [
    "# Parameter\n",
    "density1=63;\n",
    "density2=917;\n",
    "cp2=1967.8;\n",
    "pbwi=0.04;\n",
    "picei=1-pbwi;\n",
    "pw=0.92;\n",
    "k2=2.30;\n",
    "Tsub=256.15; # Sublimation temperature\n",
    "Hsub=2.840*10^6;\n",
    "htc=65; # Heat transfer coefficient # W/m^2K # Hottot 2007\n",
    "Hw=242345;\n",
    "Tshelf_i=236.85; # Initial shelf temperature\n",
    "Tshelf_f=281.85; # Final shelf temperature\n",
    "Tshelf_r=1/6;    # Shelf temperature rising per 10s"
   ]
  },
  {
   "cell_type": "code",
   "execution_count": null,
   "metadata": {
    "scrolled": true
   },
   "outputs": [],
   "source": [
    "function storage!(f,u,node) # Storage term  # 1:T2, 2:X(t), 3:Tshelf\n",
    "        f[1]=density2*cp2*u[1]\n",
    "        f[2]=(density2-density1)*(Hsub*picei)*u[2]\n",
    "        f[3]=u[3]\n",
    "end"
   ]
  },
  {
   "cell_type": "code",
   "execution_count": null,
   "metadata": {},
   "outputs": [],
   "source": [
    "function flux!(f,u,edge) # Flux term\n",
    "        f[1]=-k2*(u[1,2]-u[1,1])\n",
    "        f[2]=0\n",
    "        f[3]=0\n",
    "end"
   ]
  },
  {
   "cell_type": "code",
   "execution_count": null,
   "metadata": {
    "scrolled": true
   },
   "outputs": [],
   "source": [
    "function reaction!(f,u,node) # Reaction term\n",
    "        f[1]=-Hw*pbwi\n",
    "        f[2]=-Hw*Length*pw-htc*(u[3]-Tsub)\n",
    "        f[3]=-1/60\n",
    "end"
   ]
  },
  {
   "cell_type": "code",
   "execution_count": null,
   "metadata": {
    "scrolled": false
   },
   "outputs": [],
   "source": [
    "physics=VoronoiFVM.Physics(num_species=3,flux=flux!,storage=storage!,reaction=reaction!)"
   ]
  },
  {
   "cell_type": "code",
   "execution_count": null,
   "metadata": {},
   "outputs": [],
   "source": [
    "system=VoronoiFVM.DenseSystem(grid,physics)\n",
    "enable_species!(system,1,[1]) # System, ispec::Integer, regions::AbstractArray{T,1}\n",
    "enable_species!(system,2,[1])\n",
    "enable_species!(system,3,[1])"
   ]
  },
  {
   "cell_type": "code",
   "execution_count": null,
   "metadata": {},
   "outputs": [],
   "source": [
    "inival=unknowns(system)\n",
    "solution=unknowns(system)\n",
    "for i=1:num_nodes(grid)\n",
    "    inival[1,i]=236.85      # Initial temperature\n",
    "    inival[2,i]=0           # Initial position\n",
    "    inival[3,i]=236.85+33.2 # Shelf temp. at the initial sublimation point\n",
    "end"
   ]
  },
  {
   "cell_type": "code",
   "execution_count": null,
   "metadata": {},
   "outputs": [],
   "source": [
    "using Plots\n",
    "using DataFrames\n",
    "using CSV\n",
    "df_a=DataFrame()\n",
    "df_b=DataFrame()\n",
    "df_c=DataFrame()\n",
    "\n",
    "let\n",
    "t=0.0; del_t=10.0\n",
    "    @gif for i=1:360*3\n",
    "         t=t+del_t\n",
    "            \n",
    "        if i<(Tshelf_f-Tshelf_i)/Tshelf_r+1\n",
    "        boundary_neumann!(system,1,1,htc*(Tshelf_i+Tshelf_r*i-solution[1,1])/k2)       \n",
    "        end\n",
    "        \n",
    "        if i>(Tshelf_f-Tshelf_i)/Tshelf_r\n",
    "        boundary_neumann!(system,1,1,htc*(Tshelf_f-solution[1,1])/k2)\n",
    "        end\n",
    "        \n",
    "        if solution[3,1]>Tshelf_f-0.001\n",
    "        boundary_dirichlet!(system,3,1,Tshelf_f)\n",
    "        end\n",
    "        \n",
    "        \n",
    "        push!(df_a,(A=t/3600,B=solution[1,300]-273.15)) # Interface temperature\n",
    "        CSV.write(\"Interface_T_HFD.csv\",df_a,writeheader=false)\n",
    "        \n",
    "        push!(df_b,(A=t/3600,B=solution[1,1]-273.15)) # Bottom temperature\n",
    "        CSV.write(\"Bottom_T_HFD.csv\",df_b,writeheader=false)\n",
    "        \n",
    "        push!(df_c,(A=t/3600,B=solution[2,1])) # Interface position\n",
    "        CSV.write(\"Position_HFD.csv\",df_c,writeheader=false)\n",
    "        \n",
    "        solve!(solution,inival,system,tstep=del_t)\n",
    "    \n",
    "        @views begin\n",
    "        P1=heatmap(reshape(solution[1,:],length(X1),1),colorbar=:right,color=:viridis,clim=(220,260),yflip=false)\n",
    "        P2=Plots.plot(solution[1,:],ylim=(220,260),yflip=false)\n",
    "        P3=Plots.plot(solution[2,:],ylim=(0,0.042),yflip=false)\n",
    "        P4=Plots.plot(solution[3,:],ylim=(236,286),yflip=false)\n",
    "        P=Plots.plot(P1,P2,P3,P4,layout=(1,4))\n",
    "        end\n",
    "        inival.=solution; del_t*=1.00\n",
    "   end\n",
    "end"
   ]
  }
 ],
 "metadata": {
  "kernelspec": {
   "display_name": "Julia 1.5.1",
   "language": "julia",
   "name": "julia-1.5"
  },
  "language_info": {
   "file_extension": ".jl",
   "mimetype": "application/julia",
   "name": "julia",
   "version": "1.5.1"
  }
 },
 "nbformat": 4,
 "nbformat_minor": 4
}
