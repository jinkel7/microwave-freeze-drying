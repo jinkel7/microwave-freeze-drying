{
 "cells": [
  {
   "cell_type": "code",
   "execution_count": null,
   "metadata": {},
   "outputs": [],
   "source": [
    "# For the first time running, install following pakages (Remove # below)\n",
    " # Pkg.add(\"VoronoiFVM\")\n",
    " # Pkg.add(\"ExtendableGrids\")\n",
    " # Pkg.add(\"PyPlot\")\n",
    " # Pkg.add(\"Plots\")\n",
    " # Pkg.add(\"DataFrames\")\n",
    " # Pkg.add(\"CSV\")"
   ]
  },
  {
   "cell_type": "code",
   "execution_count": null,
   "metadata": {},
   "outputs": [],
   "source": [
    "# Guide (based on Julia v1.5.1 and VoronoiFVM.jl v0.10.2)\n",
    " # Input parameter\n",
    " # Run\n",
    " # Read Bottom_T_MFD.csv => Find time where sublimation temperature reached (t1)\n",
    " # Re-run\n",
    " # Read Position_MFD.csv => Find time where length reached (t2)\n",
    " # Drying time = t1 + t2"
   ]
  },
  {
   "cell_type": "code",
   "execution_count": null,
   "metadata": {
    "scrolled": true
   },
   "outputs": [],
   "source": [
    "using VoronoiFVM\n",
    "using ExtendableGrids\n",
    "using PyPlot\n",
    "using Plots\n",
    "\n",
    "Length=0.042;\n",
    "edge_n=300; # number of edges\n",
    "X1=collect(0.0:Length/edge_n:Length)\n",
    "grid=ExtendableGrids.simplexgrid(X1)\n",
    "ExtendableGrids.plot(grid,Plotter=PyPlot)"
   ]
  },
  {
   "cell_type": "code",
   "execution_count": null,
   "metadata": {},
   "outputs": [],
   "source": [
    "# Parameter\n",
    "density1=63;\n",
    "density2=917;\n",
    "cp2=1967.8;\n",
    "pbwi=0.04;\n",
    "picei=1-pbwi;\n",
    "pw=0.92;\n",
    "k2=2.30;\n",
    "Tsub=256.15; # Sublimation temperature\n",
    "Hsub=2.840*10^6;\n",
    "Hw=242345;"
   ]
  },
  {
   "cell_type": "code",
   "execution_count": null,
   "metadata": {},
   "outputs": [],
   "source": [
    "function storage!(f,u,node) # Storage term  # 1:T2, 2:X(t)\n",
    "        f[1]=density2*cp2*u[1]\n",
    "        f[2]=(density2-density1)*(Hsub*picei)*u[2]\n",
    "end"
   ]
  },
  {
   "cell_type": "code",
   "execution_count": null,
   "metadata": {},
   "outputs": [],
   "source": [
    "function flux!(f,u,edge) # Flux term\n",
    "        f[1]=-k2*(u[1,2]-u[1,1])\n",
    "        f[2]=0\n",
    "end"
   ]
  },
  {
   "cell_type": "code",
   "execution_count": null,
   "metadata": {
    "scrolled": true
   },
   "outputs": [],
   "source": [
    "function reaction!(f,u,node) # Reaction term\n",
    "        f[1]=-Hw*pbwi\n",
    "        f[2]=-Hw*Length*pw\n",
    "end"
   ]
  },
  {
   "cell_type": "code",
   "execution_count": null,
   "metadata": {
    "scrolled": false
   },
   "outputs": [],
   "source": [
    "physics=VoronoiFVM.Physics(num_species=2,flux=flux!,storage=storage!,reaction=reaction!)"
   ]
  },
  {
   "cell_type": "code",
   "execution_count": null,
   "metadata": {},
   "outputs": [],
   "source": [
    "system=VoronoiFVM.DenseSystem(grid,physics)\n",
    "enable_species!(system,1,[1]) # System, ispec::Integer, regions::AbstractArray{T,1}\n",
    "enable_species!(system,2,[1])"
   ]
  },
  {
   "cell_type": "code",
   "execution_count": null,
   "metadata": {},
   "outputs": [],
   "source": [
    "inival=unknowns(system)\n",
    "solution=unknowns(system)\n",
    "for i=1:num_nodes(grid)\n",
    "    inival[1,i]=236.85      # Initial temperature\n",
    "    inival[2,i]=0           # Initial position\n",
    "end"
   ]
  },
  {
   "cell_type": "code",
   "execution_count": null,
   "metadata": {},
   "outputs": [],
   "source": [
    "using Plots\n",
    "using DataFrames\n",
    "using CSV\n",
    "df_a=DataFrame()\n",
    "df_b=DataFrame()\n",
    "df_c=DataFrame()\n",
    "\n",
    "let\n",
    "t=0.0; del_t=10.00\n",
    "    @gif for i=1:360*3  # Sublimation end\n",
    "         t=t+del_t\n",
    "        \n",
    "        push!(df_a,(A=t/3600,B=solution[1,300]-273.15)) # Interface temperature\n",
    "        CSV.write(\"Interface_T_MFD.csv\",df_a,writeheader=false)\n",
    "        \n",
    "        push!(df_b,(A=t/3600,B=solution[1,1]-273.15)) # Bottom temperature\n",
    "        CSV.write(\"Bottom_T_MFD.csv\",df_b,writeheader=false)\n",
    "        \n",
    "        push!(df_c,(A=t/3600,B=solution[2,1])) # Interface position\n",
    "        CSV.write(\"Position_MFD.csv\",df_c,writeheader=false)\n",
    "        \n",
    "        solve!(solution,inival,system,tstep=del_t)\n",
    "    \n",
    "        @views begin\n",
    "        P0=heatmap(reshape(solution[1,:],length(X1),1),colorbar=:right,color=:viridis,clim=(220,260),yflip=false)\n",
    "        P1=Plots.plot(solution[1,:],ylim=(220,260),yflip=false)\n",
    "        P2=Plots.plot(solution[2,:],ylim=(0,0.042),yflip=false)\n",
    "        P=Plots.plot(P0,P1,P2,layout=(1,3))\n",
    "        end\n",
    "        inival.=solution; del_t*=1.00\n",
    "   end\n",
    "end"
   ]
  }
 ],
 "metadata": {
  "kernelspec": {
   "display_name": "Julia 1.5.1",
   "language": "julia",
   "name": "julia-1.5"
  },
  "language_info": {
   "file_extension": ".jl",
   "mimetype": "application/julia",
   "name": "julia",
   "version": "1.5.1"
  }
 },
 "nbformat": 4,
 "nbformat_minor": 4
}
